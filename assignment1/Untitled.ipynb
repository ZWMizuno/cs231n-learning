{
 "cells": [
  {
   "cell_type": "code",
   "execution_count": 1,
   "id": "1ba6b39c",
   "metadata": {},
   "outputs": [
    {
     "data": {
      "text/plain": [
       "range(0, 5)"
      ]
     },
     "execution_count": 1,
     "metadata": {},
     "output_type": "execute_result"
    }
   ],
   "source": [
    "range(5)"
   ]
  },
  {
   "cell_type": "code",
   "execution_count": 2,
   "id": "330ba39a",
   "metadata": {},
   "outputs": [
    {
     "name": "stdout",
     "output_type": "stream",
     "text": [
      "[0, 1, 2, 3, 4]\n"
     ]
    },
    {
     "ename": "NameError",
     "evalue": "name 'x' is not defined",
     "output_type": "error",
     "traceback": [
      "\u001b[1;31m---------------------------------------------------------------------------\u001b[0m",
      "\u001b[1;31mNameError\u001b[0m                                 Traceback (most recent call last)",
      "\u001b[1;32mD:\\temp\\ipykernel_10268\\3112121996.py\u001b[0m in \u001b[0;36m<module>\u001b[1;34m\u001b[0m\n\u001b[0;32m      1\u001b[0m \u001b[0ma\u001b[0m \u001b[1;33m=\u001b[0m \u001b[0mlist\u001b[0m\u001b[1;33m(\u001b[0m\u001b[0mrange\u001b[0m\u001b[1;33m(\u001b[0m\u001b[1;36m5\u001b[0m\u001b[1;33m)\u001b[0m\u001b[1;33m)\u001b[0m\u001b[1;33m\u001b[0m\u001b[1;33m\u001b[0m\u001b[0m\n\u001b[0;32m      2\u001b[0m \u001b[0mprint\u001b[0m\u001b[1;33m(\u001b[0m\u001b[0ma\u001b[0m\u001b[1;33m)\u001b[0m\u001b[1;33m\u001b[0m\u001b[1;33m\u001b[0m\u001b[0m\n\u001b[1;32m----> 3\u001b[1;33m \u001b[0mx\u001b[0m \u001b[1;33m=\u001b[0m \u001b[0mx\u001b[0m\u001b[1;33m[\u001b[0m\u001b[0ma\u001b[0m\u001b[1;33m]\u001b[0m\u001b[1;33m\u001b[0m\u001b[1;33m\u001b[0m\u001b[0m\n\u001b[0m",
      "\u001b[1;31mNameError\u001b[0m: name 'x' is not defined"
     ]
    }
   ],
   "source": [
    "a = list(range(5))\n",
    "print(a)\n",
    "x = x[a]"
   ]
  },
  {
   "cell_type": "code",
   "execution_count": 2,
   "id": "0fa3df44",
   "metadata": {},
   "outputs": [
    {
     "name": "stdout",
     "output_type": "stream",
     "text": [
      "[[1. 1. 1.]\n",
      " [1. 1. 1.]]\n",
      "[[1. 1.]\n",
      " [1. 1.]\n",
      " [1. 1.]]\n"
     ]
    }
   ],
   "source": [
    "import numpy as np\n",
    "import matplotlib.pyplot as plt\n",
    "import random\n",
    "a = np.ones((2,3))\n",
    "print(a)\n",
    "b = np.reshape(a,(a.shape[1],-1))#can only specify one unknown dimension#shape[1]列数#shape[0]行数\n",
    "print(b)"
   ]
  },
  {
   "cell_type": "code",
   "execution_count": 4,
   "id": "37b8b896",
   "metadata": {},
   "outputs": [
    {
     "name": "stdout",
     "output_type": "stream",
     "text": [
      "[0 1 2]\n",
      "[[1 2 3]\n",
      " [1 2 3]\n",
      " [1 2 3]]\n"
     ]
    }
   ],
   "source": [
    "x = np.array([[1,2,3],[1,2,3],[1,2,3],[1,2,3]])\n",
    "mask = np.arange(3)\n",
    "print(mask)\n",
    "x = x[mask]#range对象访问ndarray\n",
    "print(x)"
   ]
  },
  {
   "cell_type": "code",
   "execution_count": 5,
   "id": "b3200f53",
   "metadata": {},
   "outputs": [
    {
     "name": "stdout",
     "output_type": "stream",
     "text": [
      "range(0, 50)\n",
      "[0, 1, 2, 3, 4, 5, 6, 7, 8, 9, 10, 11, 12, 13, 14, 15, 16, 17, 18, 19, 20, 21, 22, 23, 24, 25, 26, 27, 28, 29, 30, 31, 32, 33, 34, 35, 36, 37, 38, 39, 40, 41, 42, 43, 44, 45, 46, 47, 48, 49]\n"
     ]
    }
   ],
   "source": [
    "num_training = 50\n",
    "mask = list(range(num_training))\n",
    "print(range(num_training))#range是一种数据形式,需要经过list()变成数组\n",
    "print(mask)"
   ]
  },
  {
   "cell_type": "code",
   "execution_count": 6,
   "id": "ca17a119",
   "metadata": {},
   "outputs": [
    {
     "name": "stdout",
     "output_type": "stream",
     "text": [
      "[-1. -1. -1.]\n",
      "(2, 3)\n",
      "2\n",
      "3\n",
      "-3.0\n",
      "[1. 1. 1.]\n",
      "[[ True  True  True]\n",
      " [ True  True  True]]\n",
      "[[1. 1. 1.]\n",
      " [1. 1. 1.]]\n",
      "[[1. 1. 1.]\n",
      " [1. 1. 1.]]\n",
      "[3. 3.]\n",
      "[2. 2. 2.]\n",
      "0\n",
      "6\n"
     ]
    }
   ],
   "source": [
    "a = np.ones((2,3))\n",
    "aa = np.ones((2,3))\n",
    "b = np.zeros((2,3))\n",
    "c = b[0,:] - a[0,:]#also c = b[0,] - a[0,]/c = b[0] - a[0]\n",
    "print(c)\n",
    "\n",
    "#print(length(a))#错，不可以对array求length(),要用.shape[X]访问,X=0,1,......\n",
    "print(a.shape)#返回矩阵大小\n",
    "print(a.shape[0])#返回矩阵行数\n",
    "print(a.shape[1])#返回矩阵列数\n",
    "\n",
    "\n",
    "print(np.sum(c))#把所有元素加起来，输出一个scalar,可以传参axis=0,1,2,......,表示按列，行，......加起来\n",
    "                #axis=0,就按矩阵第一个索引变化，其余不变来加和,同理,axis=1,按矩阵第二个索引变化，其余不变来加和,......\n",
    "print(np.square(c))#把所有元素平方\n",
    "\n",
    "\n",
    "\n",
    "\n",
    "#数字操作是一样的\n",
    "print((a + b)==np.add(a,b))\n",
    "print(np.add(a,b))\n",
    "print(a+b)\n",
    "\n",
    "#不论是axis=0或者axis=1,生成的向量都是(1,)的形式\n",
    "print(np.sum(a,axis=1))\n",
    "print(np.sum(a,axis=0))\n",
    "\n",
    "#布尔运算计数\n",
    "print(np.sum(a==b))#返回满足条件的0,1数组\n",
    "print(np.sum(a==aa))"
   ]
  },
  {
   "cell_type": "code",
   "execution_count": 7,
   "id": "e074eb82",
   "metadata": {},
   "outputs": [
    {
     "data": {
      "text/plain": [
       "<matplotlib.image.AxesImage at 0x165ef8b8910>"
      ]
     },
     "execution_count": 7,
     "metadata": {},
     "output_type": "execute_result"
    },
    {
     "data": {
      "image/png": "[encoded data removed]",
      "text/plain": [
       "<Figure size 432x288 with 1 Axes>"
      ]
     },
     "metadata": {
      "needs_background": "light"
     },
     "output_type": "display_data"
    }
   ],
   "source": [
    "g = np.random.random((2,2))\n",
    "plt.imshow(g, interpolation='none')"
   ]
  },
  {
   "cell_type": "code",
   "execution_count": 8,
   "id": "2bfd70ef",
   "metadata": {},
   "outputs": [
    {
     "name": "stdout",
     "output_type": "stream",
     "text": [
      "[6 4 3 5 2]\n",
      "[0 7 8 2 2]\n",
      "[5 2 8]\n"
     ]
    }
   ],
   "source": [
    "dists = np.array([9,8,7,4,2,6,1])\n",
    "y = np.array([1,5,2,8,7,2,0])\n",
    "print(np.argsort(dists)[:5])\n",
    "closest_y = y[[6,4,3,5,2]] #np.argsort(dists)[:5],数组和np.arrary都可以访问ndarrary\n",
    "print(closest_y)\n",
    "a = [1,2,3]#数组\n",
    "#b = a[[0,1]]#数组不能访问数组,TypeError: list indices must be integers or slices, not list\n",
    "yy = y[a]#数组可以访问ndarray\n",
    "print(yy)"
   ]
  },
  {
   "cell_type": "code",
   "execution_count": 9,
   "id": "7809f8de",
   "metadata": {},
   "outputs": [
    {
     "name": "stdout",
     "output_type": "stream",
     "text": [
      "[81 64 49 16  4 36  1]\n",
      "[81 64 49 16  4 36  1]\n"
     ]
    },
    {
     "ename": "ValueError",
     "evalue": "operands could not be broadcast together with shapes (10,3) (5,3) ",
     "output_type": "error",
     "traceback": [
      "\u001b[1;31m---------------------------------------------------------------------------\u001b[0m",
      "\u001b[1;31mValueError\u001b[0m                                Traceback (most recent call last)",
      "\u001b[1;32mD:\\temp\\ipykernel_10268\\1766819165.py\u001b[0m in \u001b[0;36m<module>\u001b[1;34m\u001b[0m\n\u001b[0;32m     10\u001b[0m \u001b[0mcodes\u001b[0m \u001b[1;33m=\u001b[0m \u001b[0mnp\u001b[0m\u001b[1;33m.\u001b[0m\u001b[0mrandom\u001b[0m\u001b[1;33m.\u001b[0m\u001b[0mrandom\u001b[0m\u001b[1;33m(\u001b[0m\u001b[1;33m(\u001b[0m\u001b[1;36m10\u001b[0m\u001b[1;33m,\u001b[0m\u001b[1;36m3\u001b[0m\u001b[1;33m)\u001b[0m\u001b[1;33m)\u001b[0m\u001b[1;33m\u001b[0m\u001b[1;33m\u001b[0m\u001b[0m\n\u001b[0;32m     11\u001b[0m \u001b[1;31m#diff = codes - observation\u001b[0m\u001b[1;33m\u001b[0m\u001b[1;33m\u001b[0m\u001b[0m\n\u001b[1;32m---> 12\u001b[1;33m \u001b[0mdist\u001b[0m \u001b[1;33m=\u001b[0m \u001b[0mnp\u001b[0m\u001b[1;33m.\u001b[0m\u001b[0msqrt\u001b[0m\u001b[1;33m(\u001b[0m\u001b[0mnp\u001b[0m\u001b[1;33m.\u001b[0m\u001b[0msum\u001b[0m\u001b[1;33m(\u001b[0m\u001b[0mnp\u001b[0m\u001b[1;33m.\u001b[0m\u001b[0msquare\u001b[0m\u001b[1;33m(\u001b[0m\u001b[0mcodes\u001b[0m\u001b[1;33m-\u001b[0m\u001b[0mobservation\u001b[0m\u001b[1;33m)\u001b[0m\u001b[1;33m,\u001b[0m\u001b[0maxis\u001b[0m\u001b[1;33m=\u001b[0m\u001b[1;33m-\u001b[0m\u001b[1;36m1\u001b[0m\u001b[1;33m)\u001b[0m\u001b[1;33m)\u001b[0m\u001b[1;33m\u001b[0m\u001b[1;33m\u001b[0m\u001b[0m\n\u001b[0m\u001b[0;32m     13\u001b[0m \u001b[0mprint\u001b[0m\u001b[1;33m(\u001b[0m\u001b[0mdist\u001b[0m\u001b[1;33m)\u001b[0m\u001b[1;33m\u001b[0m\u001b[1;33m\u001b[0m\u001b[0m\n\u001b[0;32m     14\u001b[0m \u001b[0mnearest\u001b[0m \u001b[1;33m=\u001b[0m \u001b[0mnp\u001b[0m\u001b[1;33m.\u001b[0m\u001b[0margmin\u001b[0m\u001b[1;33m(\u001b[0m\u001b[0mdist\u001b[0m\u001b[1;33m)\u001b[0m\u001b[1;33m\u001b[0m\u001b[1;33m\u001b[0m\u001b[0m\n",
      "\u001b[1;31mValueError\u001b[0m: operands could not be broadcast together with shapes (10,3) (5,3) "
     ]
    }
   ],
   "source": [
    "print(np.square(dists))\n",
    "print(dists**2)\n",
    "\n",
    "#observation = np.array([111.0,188.0])\n",
    "#codes = np.array([[102.0, 203.0],\n",
    "#                  [132.0, 193.0],\n",
    "#                   [45.0, 155.0],\n",
    "#                  [57.0, 173.0]])\n",
    "observation = np.random.random((5,3))\n",
    "codes = np.random.random((10,3))\n",
    "#diff = codes - observation\n",
    "dist = np.sqrt(np.sum(np.square(codes-observation),axis=-1))\n",
    "print(dist)\n",
    "nearest = np.argmin(dist)\n",
    "print(nearest)"
   ]
  },
  {
   "cell_type": "code",
   "execution_count": 10,
   "id": "418ae9cf",
   "metadata": {},
   "outputs": [
    {
     "name": "stdout",
     "output_type": "stream",
     "text": [
      "[[0. 0. 0. 0.]\n",
      " [0. 0. 0. 0.]]\n",
      "[[1. 1. 1.]\n",
      " [1. 1. 1.]\n",
      " [1. 1. 1.]\n",
      " [1. 1. 1.]]\n",
      "[[0. 0. 0. 0.]\n",
      " [1. 1. 1. 1.]]\n"
     ]
    }
   ],
   "source": [
    "a = np.zeros((2,4))\n",
    "b = np.ones((4,3))\n",
    "print(a)\n",
    "print(b)\n",
    "a[1] += b[:,2]#不能广播的时候，转化成一类格式相加\n",
    "print(a)"
   ]
  },
  {
   "cell_type": "code",
   "execution_count": 11,
   "id": "acfc9dd1",
   "metadata": {},
   "outputs": [
    {
     "name": "stdout",
     "output_type": "stream",
     "text": [
      "[[-1.33879859  1.09337211 -0.45962352]\n",
      " [ 0.36838154  0.12712643 -0.51615363]\n",
      " [-1.38352841 -0.92759117  1.45690252]]\n",
      "[[False  True False]\n",
      " [ True  True False]\n",
      " [False False  True]]\n",
      "4\n",
      "[[-0.          1.09337211 -0.        ]\n",
      " [ 0.36838154  0.12712643 -0.        ]\n",
      " [-0.         -0.          1.45690252]]\n"
     ]
    }
   ],
   "source": [
    "a = np.random.randn(3,3)\n",
    "print(a)\n",
    "print(a>0)\n",
    "print(np.sum(a>0))\n",
    "b = a*(a>0) #筛选正数\n",
    "print(b)"
   ]
  },
  {
   "cell_type": "code",
   "execution_count": 3,
   "id": "9efd3464",
   "metadata": {},
   "outputs": [
    {
     "name": "stdout",
     "output_type": "stream",
     "text": [
      "[[2 2 2 2]\n",
      " [3 3 3 3]\n",
      " [4 4 4 4]\n",
      " [5 5 5 5]]\n"
     ]
    }
   ],
   "source": [
    "a = np.array([[1],[2],[3],[4]])\n",
    "b = np.tile(a,(1,4))\n",
    "print(b+1)"
   ]
  },
  {
   "cell_type": "code",
   "execution_count": 13,
   "id": "f86c6705",
   "metadata": {},
   "outputs": [
    {
     "name": "stdout",
     "output_type": "stream",
     "text": [
      "[0 1 2 3 4]\n",
      "[0 1 2 3 4]\n"
     ]
    }
   ],
   "source": [
    "a = np.arange(5)\n",
    "print(a)\n",
    "print(a.T)#行向量转置无效，仍是行向量，切记！"
   ]
  },
  {
   "cell_type": "code",
   "execution_count": 14,
   "id": "be0a5b4e",
   "metadata": {},
   "outputs": [
    {
     "data": {
      "text/plain": [
       "array([3, 2, 0])"
      ]
     },
     "execution_count": 14,
     "metadata": {},
     "output_type": "execute_result"
    }
   ],
   "source": [
    "np.random.choice(5, 3, replace=False, p=[0.1, 0, 0.3, 0.6, 0])"
   ]
  },
  {
   "cell_type": "code",
   "execution_count": 15,
   "id": "13916db4",
   "metadata": {},
   "outputs": [
    {
     "name": "stdout",
     "output_type": "stream",
     "text": [
      "[[0 1 0]\n",
      " [1 0 1]]\n",
      "[[0 2 1]\n",
      " [1 0 2]]\n"
     ]
    }
   ],
   "source": [
    "x = np.array([[0, 3, 1], [2, 1, 3]])\n",
    "print(np.argsort(x,axis=0))#按原形式输出\n",
    "print(np.argsort(x,axis=1))"
   ]
  },
  {
   "cell_type": "code",
   "execution_count": 20,
   "id": "27704f2e",
   "metadata": {
    "scrolled": true
   },
   "outputs": [
    {
     "name": "stdout",
     "output_type": "stream",
     "text": [
      "<class 'tuple'>\n",
      "1\n",
      "3\n",
      "5\n",
      "7\n",
      "<class 'tuple'>\n",
      "a\n",
      "b\n",
      "c\n",
      "<class 'tuple'>\n",
      "[1, 2, 3, 4]\n",
      "<class 'tuple'>\n",
      "1\n",
      "2\n",
      "3\n",
      "4\n"
     ]
    }
   ],
   "source": [
    "def add(*args):#形参*args接收若干个位置参数，转换成元组tuple形式\n",
    "    print(type(args))\n",
    "    for arg in args:\n",
    "        print(arg)\n",
    "               #类似的有**kwargs：接收若干个关键字参数，转换成字典dict形式\n",
    "t = [1,2,3,4]\n",
    "l = [1,3,5,7]\n",
    "d = {'a':1,'b':2,'c':3}\n",
    "\n",
    "\n",
    "\n",
    "add(*l)\n",
    "add(*d)\n",
    "\n",
    "add(t)#不加*传入时，将数组t作为元组的一个元素\n",
    "add(*t)#在列表前加*号，会将列表拆分成一个一个的独立元素，不光是列表、元组、字典，由numpy生成的向量也可以拆分"
   ]
  },
  {
   "cell_type": "code",
   "execution_count": 32,
   "id": "90f6d7d4",
   "metadata": {},
   "outputs": [
    {
     "name": "stdout",
     "output_type": "stream",
     "text": [
      "<class 'numpy.ndarray'>\n",
      "(3,)\n",
      "(3, 1)\n"
     ]
    }
   ],
   "source": [
    "a = np.random.random(3)#(3,)行向量\n",
    "b = np.reshape(a,(a.shape[0],-1))#(3,1)列向量\n",
    "\n",
    "print(type(a))\n",
    "print(a.shape)\n",
    "print(b.shape)"
   ]
  },
  {
   "cell_type": "code",
   "execution_count": 10,
   "id": "a6312f92",
   "metadata": {},
   "outputs": [
    {
     "name": "stdout",
     "output_type": "stream",
     "text": [
      "hh\n",
      "\thh\n",
      "2\n",
      "1.23\n"
     ]
    }
   ],
   "source": [
    "print(\"hh\\n\\thh\")\n",
    "a = [1,2]\n",
    "print(len(a))\n",
    "a = 1.23432324325452\n",
    "print(\"%0.2f\"%a)"
   ]
  },
  {
   "cell_type": "code",
   "execution_count": 6,
   "id": "948acb18",
   "metadata": {},
   "outputs": [
    {
     "name": "stdout",
     "output_type": "stream",
     "text": [
      "1\n",
      "1.60\n"
     ]
    }
   ],
   "source": [
    "a = 1.6\n",
    "print(\"%d\"%a)\n",
    "print(\"%.2f\"%a)"
   ]
  }
 ],
 "metadata": {
  "kernelspec": {
   "display_name": "Python (cs231n)",
   "language": "python",
   "name": "cs231n"
  },
  "language_info": {
   "codemirror_mode": {
    "name": "ipython",
    "version": 3
   },
   "file_extension": ".py",
   "mimetype": "text/x-python",
   "name": "python",
   "nbconvert_exporter": "python",
   "pygments_lexer": "ipython3",
   "version": "3.9.7"
  }
 },
 "nbformat": 4,
 "nbformat_minor": 5
}
